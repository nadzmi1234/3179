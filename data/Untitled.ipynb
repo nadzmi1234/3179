{
 "cells": [
  {
   "cell_type": "code",
   "execution_count": 65,
   "id": "f66e7818-46bd-4106-8508-c80d67d3274f",
   "metadata": {},
   "outputs": [],
   "source": [
    "import pandas as pd\n",
    "from currency_converter import CurrencyConverter"
   ]
  },
  {
   "cell_type": "code",
   "execution_count": 66,
   "id": "23058e09-be26-4ec9-b083-6668220902e9",
   "metadata": {},
   "outputs": [],
   "source": [
    "df = pd.read_csv(\"michelin_my_maps.csv\")"
   ]
  },
  {
   "cell_type": "code",
   "execution_count": 67,
   "id": "e3e73dcd-6a46-48c9-926e-8cf18e3a8c44",
   "metadata": {},
   "outputs": [
    {
     "name": "stdout",
     "output_type": "stream",
     "text": [
      "<class 'pandas.core.frame.DataFrame'>\n",
      "RangeIndex: 6527 entries, 0 to 6526\n",
      "Data columns (total 14 columns):\n",
      " #   Column                 Non-Null Count  Dtype  \n",
      "---  ------                 --------------  -----  \n",
      " 0   Name                   6527 non-null   object \n",
      " 1   Address                6527 non-null   object \n",
      " 2   Location               6527 non-null   object \n",
      " 3   MinPrice               6522 non-null   object \n",
      " 4   MaxPrice               6522 non-null   object \n",
      " 5   Currency               6522 non-null   object \n",
      " 6   Cuisine                6527 non-null   object \n",
      " 7   Longitude              6527 non-null   float64\n",
      " 8   Latitude               6527 non-null   float64\n",
      " 9   PhoneNumber            6405 non-null   float64\n",
      " 10  Url                    6527 non-null   object \n",
      " 11  WebsiteUrl             5399 non-null   object \n",
      " 12  Award                  6527 non-null   object \n",
      " 13  FacilitiesAndServices  6491 non-null   object \n",
      "dtypes: float64(3), object(11)\n",
      "memory usage: 714.0+ KB\n"
     ]
    }
   ],
   "source": [
    "df.info()"
   ]
  },
  {
   "cell_type": "code",
   "execution_count": 73,
   "id": "5b578ae6-7bf3-4bb3-bc95-1da5839dcb55",
   "metadata": {},
   "outputs": [],
   "source": [
    "# Get only those in europe\n",
    "long_cond = (df['Longitude'] > -25) & (df['Longitude'] < 55)\n",
    "lat_cond = (df['Latitude'] > 30) & (df['Latitude'] < 70)\n",
    "df_europe = df[long_cond & lat_cond].copy()"
   ]
  },
  {
   "cell_type": "code",
   "execution_count": 74,
   "id": "0545f0b0-3f58-463b-b80c-70ba4c120120",
   "metadata": {},
   "outputs": [
    {
     "data": {
      "text/html": [
       "<div>\n",
       "<style scoped>\n",
       "    .dataframe tbody tr th:only-of-type {\n",
       "        vertical-align: middle;\n",
       "    }\n",
       "\n",
       "    .dataframe tbody tr th {\n",
       "        vertical-align: top;\n",
       "    }\n",
       "\n",
       "    .dataframe thead th {\n",
       "        text-align: right;\n",
       "    }\n",
       "</style>\n",
       "<table border=\"1\" class=\"dataframe\">\n",
       "  <thead>\n",
       "    <tr style=\"text-align: right;\">\n",
       "      <th></th>\n",
       "      <th>Longitude</th>\n",
       "      <th>Latitude</th>\n",
       "      <th>PhoneNumber</th>\n",
       "    </tr>\n",
       "  </thead>\n",
       "  <tbody>\n",
       "    <tr>\n",
       "      <th>count</th>\n",
       "      <td>4102.000000</td>\n",
       "      <td>4102.000000</td>\n",
       "      <td>4.086000e+03</td>\n",
       "    </tr>\n",
       "    <tr>\n",
       "      <th>mean</th>\n",
       "      <td>5.267193</td>\n",
       "      <td>47.240271</td>\n",
       "      <td>3.462706e+11</td>\n",
       "    </tr>\n",
       "    <tr>\n",
       "      <th>std</th>\n",
       "      <td>6.119783</td>\n",
       "      <td>4.482556</td>\n",
       "      <td>1.781825e+12</td>\n",
       "    </tr>\n",
       "    <tr>\n",
       "      <th>min</th>\n",
       "      <td>-21.927869</td>\n",
       "      <td>32.638299</td>\n",
       "      <td>4.977184e+07</td>\n",
       "    </tr>\n",
       "    <tr>\n",
       "      <th>25%</th>\n",
       "      <td>1.407837</td>\n",
       "      <td>43.945358</td>\n",
       "      <td>3.324013e+10</td>\n",
       "    </tr>\n",
       "    <tr>\n",
       "      <th>50%</th>\n",
       "      <td>5.453904</td>\n",
       "      <td>47.497574</td>\n",
       "      <td>3.494736e+10</td>\n",
       "    </tr>\n",
       "    <tr>\n",
       "      <th>75%</th>\n",
       "      <td>9.379614</td>\n",
       "      <td>50.729668</td>\n",
       "      <td>3.901716e+11</td>\n",
       "    </tr>\n",
       "    <tr>\n",
       "      <th>max</th>\n",
       "      <td>25.595863</td>\n",
       "      <td>64.145390</td>\n",
       "      <td>4.981419e+13</td>\n",
       "    </tr>\n",
       "  </tbody>\n",
       "</table>\n",
       "</div>"
      ],
      "text/plain": [
       "         Longitude     Latitude   PhoneNumber\n",
       "count  4102.000000  4102.000000  4.086000e+03\n",
       "mean      5.267193    47.240271  3.462706e+11\n",
       "std       6.119783     4.482556  1.781825e+12\n",
       "min     -21.927869    32.638299  4.977184e+07\n",
       "25%       1.407837    43.945358  3.324013e+10\n",
       "50%       5.453904    47.497574  3.494736e+10\n",
       "75%       9.379614    50.729668  3.901716e+11\n",
       "max      25.595863    64.145390  4.981419e+13"
      ]
     },
     "execution_count": 74,
     "metadata": {},
     "output_type": "execute_result"
    }
   ],
   "source": [
    "df_europe.describe()"
   ]
  },
  {
   "cell_type": "code",
   "execution_count": 75,
   "id": "24025986-0ca9-45f2-8c81-9dae588328bc",
   "metadata": {},
   "outputs": [],
   "source": [
    "def price_to_int(price):\n",
    "    if isinstance(price, str):\n",
    "        price = int(price.replace(',', ''))\n",
    "    return price"
   ]
  },
  {
   "cell_type": "code",
   "execution_count": 76,
   "id": "55ae73cb-3639-4c0c-9f6f-9e3aaeed8b8b",
   "metadata": {},
   "outputs": [],
   "source": [
    "c = CurrencyConverter()\n",
    "def price_to_usd(price_cur, converter = c):\n",
    "    try:\n",
    "        price_usd = round(converter.convert(price_cur[0], price_cur[1], 'USD'),2)\n",
    "    except:\n",
    "        price_usd = None\n",
    "    return price_usd"
   ]
  },
  {
   "cell_type": "code",
   "execution_count": 77,
   "id": "49ae4188-546c-4b45-9301-140243b5a4d5",
   "metadata": {},
   "outputs": [],
   "source": [
    "df_europe[['MinPrice', 'MaxPrice']] = df_europe[['MinPrice', 'MaxPrice']].applymap(price_to_int)"
   ]
  },
  {
   "cell_type": "code",
   "execution_count": 78,
   "id": "71f6ca2b-f92f-4ca7-a543-5f361cf82032",
   "metadata": {},
   "outputs": [
    {
     "name": "stdout",
     "output_type": "stream",
     "text": [
      "<class 'pandas.core.frame.DataFrame'>\n",
      "Int64Index: 4102 entries, 3 to 6526\n",
      "Data columns (total 14 columns):\n",
      " #   Column                 Non-Null Count  Dtype  \n",
      "---  ------                 --------------  -----  \n",
      " 0   Name                   4102 non-null   object \n",
      " 1   Address                4102 non-null   object \n",
      " 2   Location               4102 non-null   object \n",
      " 3   MinPrice               4101 non-null   float64\n",
      " 4   MaxPrice               4101 non-null   float64\n",
      " 5   Currency               4101 non-null   object \n",
      " 6   Cuisine                4102 non-null   object \n",
      " 7   Longitude              4102 non-null   float64\n",
      " 8   Latitude               4102 non-null   float64\n",
      " 9   PhoneNumber            4086 non-null   float64\n",
      " 10  Url                    4102 non-null   object \n",
      " 11  WebsiteUrl             3967 non-null   object \n",
      " 12  Award                  4102 non-null   object \n",
      " 13  FacilitiesAndServices  4102 non-null   object \n",
      "dtypes: float64(5), object(9)\n",
      "memory usage: 480.7+ KB\n"
     ]
    }
   ],
   "source": [
    "df_europe.info()"
   ]
  },
  {
   "cell_type": "code",
   "execution_count": 69,
   "id": "1d12e1c2-dcc9-4824-8453-d8b4275e73fe",
   "metadata": {},
   "outputs": [],
   "source": [
    "def foo(row):\n",
    "    print(row[0])\n",
    "    return row"
   ]
  },
  {
   "cell_type": "code",
   "execution_count": 79,
   "id": "44ac4401-21d2-42ac-be60-6fedf036fdb9",
   "metadata": {},
   "outputs": [],
   "source": [
    "df_europe[\"MinPriceUSD\"] = df_europe[[\"MinPrice\", \"Currency\"]].apply(price_to_usd, axis = 1)"
   ]
  },
  {
   "cell_type": "code",
   "execution_count": 80,
   "id": "482073b2-6fc9-4298-9fe1-70d886b32a0f",
   "metadata": {},
   "outputs": [],
   "source": [
    "df_europe[\"MaxPriceUSD\"] = df_europe[[\"MaxPrice\", \"Currency\"]].apply(price_to_usd, axis = 1)"
   ]
  },
  {
   "cell_type": "code",
   "execution_count": 82,
   "id": "3333aa99-dc08-46bb-963c-296963c19410",
   "metadata": {},
   "outputs": [],
   "source": [
    "df.to_csv('michelin_cleaned.csv')"
   ]
  },
  {
   "cell_type": "code",
   "execution_count": 97,
   "id": "ed8f0342-f740-45da-88f8-48240b311285",
   "metadata": {},
   "outputs": [],
   "source": [
    "####"
   ]
  },
  {
   "cell_type": "code",
   "execution_count": 83,
   "id": "46869ad8-4216-4475-be6f-8fdab39a14e2",
   "metadata": {},
   "outputs": [],
   "source": [
    "df2 = pd.read_csv(\"michelin_cleaned.csv\")"
   ]
  },
  {
   "cell_type": "code",
   "execution_count": 84,
   "id": "39d85bbc-7608-498d-a8e4-e4e3b42aeba0",
   "metadata": {},
   "outputs": [],
   "source": [
    "def split_list(string):\n",
    "    return list(map(str.strip, string.split(',')))"
   ]
  },
  {
   "cell_type": "code",
   "execution_count": 85,
   "id": "a39a34b3-4b0f-4f06-a8ef-33452164504a",
   "metadata": {},
   "outputs": [],
   "source": [
    "df2['Cuisine'] = df2['Cuisine'].apply(split_list)"
   ]
  },
  {
   "cell_type": "code",
   "execution_count": 86,
   "id": "0acb01ad-771d-4f71-8f44-eca62d08f42f",
   "metadata": {},
   "outputs": [],
   "source": [
    "df2 = df2.explode('Cuisine')"
   ]
  },
  {
   "cell_type": "code",
   "execution_count": 87,
   "id": "a65e44b2-eb39-4bf3-b58a-5013c40ad2ef",
   "metadata": {},
   "outputs": [],
   "source": [
    "df2.to_csv('michelin_cuisine.csv', index = False)"
   ]
  },
  {
   "cell_type": "code",
   "execution_count": 88,
   "id": "e5d583c3-bb4d-427e-b93d-77efaad6f7f7",
   "metadata": {},
   "outputs": [],
   "source": [
    "df2.to_csv('michelin_cuisine_0.csv', index = \"Index\")"
   ]
  },
  {
   "cell_type": "code",
   "execution_count": null,
   "id": "22cbc10d-be19-485f-a5ba-0ab7cd81aaf0",
   "metadata": {},
   "outputs": [],
   "source": []
  }
 ],
 "metadata": {
  "kernelspec": {
   "display_name": "Python 3",
   "language": "python",
   "name": "python3"
  },
  "language_info": {
   "codemirror_mode": {
    "name": "ipython",
    "version": 3
   },
   "file_extension": ".py",
   "mimetype": "text/x-python",
   "name": "python",
   "nbconvert_exporter": "python",
   "pygments_lexer": "ipython3",
   "version": "3.8.8"
  }
 },
 "nbformat": 4,
 "nbformat_minor": 5
}
