{
 "cells": [
  {
   "cell_type": "code",
   "execution_count": 123,
   "id": "f66e7818-46bd-4106-8508-c80d67d3274f",
   "metadata": {},
   "outputs": [],
   "source": [
    "import pandas as pd\n",
    "from currency_converter import CurrencyConverter"
   ]
  },
  {
   "cell_type": "code",
   "execution_count": 124,
   "id": "23058e09-be26-4ec9-b083-6668220902e9",
   "metadata": {},
   "outputs": [],
   "source": [
    "df = pd.read_csv(\"michelin_my_maps.csv\")"
   ]
  },
  {
   "cell_type": "code",
   "execution_count": 169,
   "id": "e3e73dcd-6a46-48c9-926e-8cf18e3a8c44",
   "metadata": {},
   "outputs": [
    {
     "data": {
      "text/plain": [
       "Bib Gourmand        3249\n",
       "1 MICHELIN Star     2659\n",
       "2 MICHELIN Stars     482\n",
       "3 MICHELIN Stars     137\n",
       "Name: Award, dtype: int64"
      ]
     },
     "execution_count": 169,
     "metadata": {},
     "output_type": "execute_result"
    }
   ],
   "source": [
    "df.Award.value_counts()"
   ]
  },
  {
   "cell_type": "code",
   "execution_count": 171,
   "id": "a8fa60d2-67eb-467b-9a58-a7806daa2318",
   "metadata": {},
   "outputs": [],
   "source": [
    "df = df[df.Award != \"Bib Gourmand\"]"
   ]
  },
  {
   "cell_type": "code",
   "execution_count": 173,
   "id": "5b578ae6-7bf3-4bb3-bc95-1da5839dcb55",
   "metadata": {},
   "outputs": [],
   "source": [
    "# Get only those in europe\n",
    "long_cond = (df['Longitude'] > -25) & (df['Longitude'] < 55)\n",
    "lat_cond = (df['Latitude'] > 33) & (df['Latitude'] < 70)\n",
    "df_europe = df[long_cond & lat_cond].copy()"
   ]
  },
  {
   "cell_type": "code",
   "execution_count": 174,
   "id": "0545f0b0-3f58-463b-b80c-70ba4c120120",
   "metadata": {},
   "outputs": [
    {
     "name": "stdout",
     "output_type": "stream",
     "text": [
      "<class 'pandas.core.frame.DataFrame'>\n",
      "Int64Index: 2260 entries, 3 to 3277\n",
      "Data columns (total 14 columns):\n",
      " #   Column                 Non-Null Count  Dtype  \n",
      "---  ------                 --------------  -----  \n",
      " 0   Name                   2260 non-null   object \n",
      " 1   Address                2260 non-null   object \n",
      " 2   Location               2260 non-null   object \n",
      " 3   MinPrice               2259 non-null   object \n",
      " 4   MaxPrice               2259 non-null   object \n",
      " 5   Currency               2259 non-null   object \n",
      " 6   Cuisine                2260 non-null   object \n",
      " 7   Longitude              2260 non-null   float64\n",
      " 8   Latitude               2260 non-null   float64\n",
      " 9   PhoneNumber            2251 non-null   float64\n",
      " 10  Url                    2260 non-null   object \n",
      " 11  WebsiteUrl             2251 non-null   object \n",
      " 12  Award                  2260 non-null   object \n",
      " 13  FacilitiesAndServices  2260 non-null   object \n",
      "dtypes: float64(3), object(11)\n",
      "memory usage: 264.8+ KB\n"
     ]
    }
   ],
   "source": [
    "df_europe.info()"
   ]
  },
  {
   "cell_type": "code",
   "execution_count": 175,
   "id": "24025986-0ca9-45f2-8c81-9dae588328bc",
   "metadata": {},
   "outputs": [],
   "source": [
    "def price_to_int(price):\n",
    "    if isinstance(price, str):\n",
    "        price = int(price.replace(',', ''))\n",
    "    return price"
   ]
  },
  {
   "cell_type": "code",
   "execution_count": 176,
   "id": "55ae73cb-3639-4c0c-9f6f-9e3aaeed8b8b",
   "metadata": {},
   "outputs": [],
   "source": [
    "c = CurrencyConverter()\n",
    "def price_to_usd(price_cur, converter = c):\n",
    "    try:\n",
    "        price_usd = round(converter.convert(price_cur[0], price_cur[1], 'USD'),2)\n",
    "    except:\n",
    "        price_usd = None\n",
    "    return price_usd"
   ]
  },
  {
   "cell_type": "code",
   "execution_count": 177,
   "id": "49ae4188-546c-4b45-9301-140243b5a4d5",
   "metadata": {},
   "outputs": [],
   "source": [
    "df_europe[['MinPrice', 'MaxPrice']] = df_europe[['MinPrice', 'MaxPrice']].applymap(price_to_int)"
   ]
  },
  {
   "cell_type": "code",
   "execution_count": 178,
   "id": "71f6ca2b-f92f-4ca7-a543-5f361cf82032",
   "metadata": {},
   "outputs": [
    {
     "name": "stdout",
     "output_type": "stream",
     "text": [
      "<class 'pandas.core.frame.DataFrame'>\n",
      "Int64Index: 2260 entries, 3 to 3277\n",
      "Data columns (total 14 columns):\n",
      " #   Column                 Non-Null Count  Dtype  \n",
      "---  ------                 --------------  -----  \n",
      " 0   Name                   2260 non-null   object \n",
      " 1   Address                2260 non-null   object \n",
      " 2   Location               2260 non-null   object \n",
      " 3   MinPrice               2259 non-null   float64\n",
      " 4   MaxPrice               2259 non-null   float64\n",
      " 5   Currency               2259 non-null   object \n",
      " 6   Cuisine                2260 non-null   object \n",
      " 7   Longitude              2260 non-null   float64\n",
      " 8   Latitude               2260 non-null   float64\n",
      " 9   PhoneNumber            2251 non-null   float64\n",
      " 10  Url                    2260 non-null   object \n",
      " 11  WebsiteUrl             2251 non-null   object \n",
      " 12  Award                  2260 non-null   object \n",
      " 13  FacilitiesAndServices  2260 non-null   object \n",
      "dtypes: float64(5), object(9)\n",
      "memory usage: 264.8+ KB\n"
     ]
    }
   ],
   "source": [
    "df_europe.info()"
   ]
  },
  {
   "cell_type": "code",
   "execution_count": 179,
   "id": "1d12e1c2-dcc9-4824-8453-d8b4275e73fe",
   "metadata": {},
   "outputs": [],
   "source": [
    "def foo(row):\n",
    "    print(row[0])\n",
    "    return row"
   ]
  },
  {
   "cell_type": "code",
   "execution_count": 180,
   "id": "44ac4401-21d2-42ac-be60-6fedf036fdb9",
   "metadata": {},
   "outputs": [],
   "source": [
    "df_europe[\"MinPriceUSD\"] = df_europe[[\"MinPrice\", \"Currency\"]].apply(price_to_usd, axis = 1)"
   ]
  },
  {
   "cell_type": "code",
   "execution_count": 181,
   "id": "482073b2-6fc9-4298-9fe1-70d886b32a0f",
   "metadata": {},
   "outputs": [],
   "source": [
    "df_europe[\"MaxPriceUSD\"] = df_europe[[\"MaxPrice\", \"Currency\"]].apply(price_to_usd, axis = 1)"
   ]
  },
  {
   "cell_type": "code",
   "execution_count": 182,
   "id": "3333aa99-dc08-46bb-963c-296963c19410",
   "metadata": {},
   "outputs": [],
   "source": [
    "df_europe.to_csv('michelin_cleaned_0.csv', index = False)"
   ]
  },
  {
   "cell_type": "code",
   "execution_count": 183,
   "id": "aa37da37-52f2-4f1b-94ef-7847e3292123",
   "metadata": {},
   "outputs": [],
   "source": [
    "df_europe = pd.read_csv('michelin_cleaned_0.csv')\n",
    "df_europe = df_europe.to_csv('michelin_cleaned.csv')"
   ]
  },
  {
   "cell_type": "code",
   "execution_count": 158,
   "id": "ed8f0342-f740-45da-88f8-48240b311285",
   "metadata": {},
   "outputs": [],
   "source": [
    "####"
   ]
  },
  {
   "cell_type": "code",
   "execution_count": 184,
   "id": "46869ad8-4216-4475-be6f-8fdab39a14e2",
   "metadata": {},
   "outputs": [],
   "source": [
    "df2 = pd.read_csv(\"michelin_cleaned.csv\")"
   ]
  },
  {
   "cell_type": "code",
   "execution_count": 185,
   "id": "39d85bbc-7608-498d-a8e4-e4e3b42aeba0",
   "metadata": {},
   "outputs": [],
   "source": [
    "def split_list(string):\n",
    "    return list(map(str.strip, string.split(',')))"
   ]
  },
  {
   "cell_type": "code",
   "execution_count": 186,
   "id": "a39a34b3-4b0f-4f06-a8ef-33452164504a",
   "metadata": {},
   "outputs": [],
   "source": [
    "df2['Cuisine'] = df2['Cuisine'].apply(split_list)"
   ]
  },
  {
   "cell_type": "code",
   "execution_count": 187,
   "id": "0acb01ad-771d-4f71-8f44-eca62d08f42f",
   "metadata": {},
   "outputs": [],
   "source": [
    "df2 = df2.explode('Cuisine')"
   ]
  },
  {
   "cell_type": "code",
   "execution_count": 188,
   "id": "e5d583c3-bb4d-427e-b93d-77efaad6f7f7",
   "metadata": {},
   "outputs": [],
   "source": [
    "df2.to_csv('michelin_cuisine.csv', index = False)"
   ]
  },
  {
   "cell_type": "code",
   "execution_count": null,
   "id": "22cbc10d-be19-485f-a5ba-0ab7cd81aaf0",
   "metadata": {},
   "outputs": [],
   "source": []
  }
 ],
 "metadata": {
  "kernelspec": {
   "display_name": "Python 3",
   "language": "python",
   "name": "python3"
  },
  "language_info": {
   "codemirror_mode": {
    "name": "ipython",
    "version": 3
   },
   "file_extension": ".py",
   "mimetype": "text/x-python",
   "name": "python",
   "nbconvert_exporter": "python",
   "pygments_lexer": "ipython3",
   "version": "3.8.8"
  }
 },
 "nbformat": 4,
 "nbformat_minor": 5
}
